{
 "cells": [
  {
   "cell_type": "markdown",
   "metadata": {},
   "source": [
    "参考：\n",
    "\n",
    "https://github.com/small-yellow-duck/facebook_auction/blob/master/fba-sub9.py\n",
    "\n",
    "https://github.com/wallinm1/kaggle-facebook-bot/blob/master/facebook_notebook.ipynb\n"
   ]
  },
  {
   "cell_type": "code",
   "execution_count": 1,
   "metadata": {
    "collapsed": true
   },
   "outputs": [],
   "source": [
    "# import 一些库\n",
    "import pandas as pd\n",
    "import numpy as np\n",
    "from matplotlib import pyplot as plt\n",
    "%matplotlib inline"
   ]
  },
  {
   "cell_type": "code",
   "execution_count": 2,
   "metadata": {
    "collapsed": false
   },
   "outputs": [],
   "source": [
    "# 加载数据\n",
    "\n",
    "train = pd.read_csv('input/train.csv')\n",
    "test = pd.read_csv('input/test.csv')\n",
    "test['outcome'] = -1\n",
    "bids = pd.read_csv('input/bids.csv').sort_values(['auction', 'time'])\n",
    "bot_or_human = pd.concat([ train, test ])\n",
    "del test\n",
    "del train"
   ]
  },
  {
   "cell_type": "code",
   "execution_count": 3,
   "metadata": {
    "collapsed": false
   },
   "outputs": [],
   "source": [
    "## 去掉账户和地址的后5个字母\n",
    "def address_strip(x):\n",
    "    return x[0:-5]\n",
    "bot_or_human.address = bot_or_human.address.apply(address_strip)\n",
    "bot_or_human.payment_account = bot_or_human.payment_account.apply(address_strip)\n",
    "# 特征提取：账户与地址是否一致\n",
    "bot_or_human['payment_address_same'] = bot_or_human['address']==bot_or_human['payment_account']\n",
    "bot_or_human['payment_address_same']= bot_or_human['payment_address_same'].astype(int)"
   ]
  },
  {
   "cell_type": "code",
   "execution_count": 4,
   "metadata": {
    "collapsed": false
   },
   "outputs": [
    {
     "name": "stderr",
     "output_type": "stream",
     "text": [
      "/usr/local/lib/python2.7/dist-packages/pandas/core/groupby.py:2930: FutureWarning: numpy not_equal will not check object identity in the future. The comparison did not return the same result as suggested by the identity (`is`)) and will change.\n",
      "  inc = np.r_[1, val[1:] != val[:-1]]\n"
     ]
    }
   ],
   "source": [
    "# log熵计算\n",
    "\n",
    "def log_entropy(x):\n",
    "    e = np.sum(np.log(np.array(range(1,np.sum(x)))))\n",
    "    for i in x:\n",
    "        e -= np.sum(np.log(np.array(range(1,i))))\n",
    "    return e\n",
    "\n",
    "\n",
    "\n",
    "# 特征提取：每个拍卖者的总出价次数\n",
    "b = bids.groupby(['bidder_id']).size().reset_index().rename(columns = {0:'bids_count'}).fillna(0)\n",
    "bot_or_human = pd.merge(bot_or_human, b, on='bidder_id', how='left')\n",
    "del b \n",
    "# 特征提取：每个拍卖者参加拍卖场数\n",
    "# 参考 http://stackoverflow.com/questions/15411158/pandas-countdistinct-equivalent\n",
    "b = bids.groupby(['bidder_id']).auction.nunique().reset_index().rename(columns = {'auction':'auctions_count'})\n",
    "bot_or_human = pd.merge(bot_or_human, b, on='bidder_id', how='left')\n",
    "del b \n",
    "\n",
    "# 特征提取：拍卖者每场拍卖bid数的中位数\n",
    "a = bids.groupby(['bidder_id', 'auction']).size().reset_index()\n",
    "b = a.groupby('bidder_id')[0].median().reset_index().rename(columns = {0:'bids_per_auction_median'})\n",
    "bot_or_human = pd.merge(bot_or_human, b, on='bidder_id', how='left')\n",
    "del a\n",
    "del b \n",
    "#  拍卖者登录country总数\n",
    "b = bids.groupby(['bidder_id']).country.nunique().reset_index().rename(columns = {'country':'countries_count'})\n",
    "bot_or_human = pd.merge(bot_or_human, b, on='bidder_id', how='left')\n",
    "\n",
    "#  拍卖者登录国家熵\n",
    "b = bids.groupby(['bidder_id', 'country']).size().reset_index()\n",
    "b= b.rename(columns = {0:'country_count'})\n",
    "c = b.groupby('bidder_id').country_count.apply(log_entropy).reset_index()\n",
    "c= c.rename(columns = {'country_count':'country_entropy'})\n",
    "bot_or_human = pd.merge(bot_or_human, c, on='bidder_id', how='left')\n",
    "del b,c\n",
    "\n",
    "\n",
    "\n",
    "#  拍卖者每场拍卖登录country数的中位数平均数与最大值\n",
    "b = bids[['bidder_id', 'auction', 'country']].groupby(['bidder_id','auction']).country.nunique().reset_index()\n",
    "b= b.rename(columns = {'country':'countries_per_bidder_per_auction'})\n",
    "\n",
    "c = b.groupby('bidder_id').countries_per_bidder_per_auction.median().reset_index()\n",
    "c= c.rename(columns = {'countries_per_bidder_per_auction':'countries_auction_median'})\n",
    "bot_or_human = pd.merge(bot_or_human, c, on='bidder_id', how='left')\n",
    "\n",
    "c = b.groupby('bidder_id').countries_per_bidder_per_auction.mean().reset_index()\n",
    "c= c.rename(columns = {'countries_per_bidder_per_auction':'countries_auction_mean'})\n",
    "bot_or_human = pd.merge(bot_or_human, c, on='bidder_id', how='left')\n",
    "\n",
    "c = b.groupby('bidder_id').countries_per_bidder_per_auction.max().reset_index()\n",
    "c= c.rename(columns = {'countries_per_bidder_per_auction':'countries_auction_max'})\n",
    "bot_or_human = pd.merge(bot_or_human, c, on='bidder_id', how='left')"
   ]
  },
  {
   "cell_type": "code",
   "execution_count": 5,
   "metadata": {
    "collapsed": false
   },
   "outputs": [],
   "source": [
    "#  拍卖者登录ip总数\n",
    "b = bids.groupby(['bidder_id']).ip.nunique().reset_index().rename(columns = {'ip':'ips_count'})\n",
    "bot_or_human = pd.merge(bot_or_human, b, on='bidder_id', how='left')\n",
    "del b \n",
    "#  拍卖者登录ip熵\n",
    "b = bids.groupby(['bidder_id', 'ip']).size().reset_index()\n",
    "b= b.rename(columns = {0:'ip_count'})\n",
    "c = b.groupby('bidder_id').ip_count.apply(log_entropy).reset_index()\n",
    "c= c.rename(columns = {'ip_count':'ip_entropy'})\n",
    "bot_or_human = pd.merge(bot_or_human, c, on='bidder_id', how='left')\n",
    "del b,c\n",
    "\n",
    "\n",
    "\n",
    "#  拍卖者每场拍卖登录ip数的中位数平均数与最大值\n",
    "b = bids[['bidder_id', 'auction', 'ip']].groupby(['bidder_id','auction']).ip.nunique().reset_index()\n",
    "b= b.rename(columns = {'ip':'ips_per_bidder_per_auction'})\n",
    "\n",
    "c = b.groupby('bidder_id').ips_per_bidder_per_auction.median().reset_index()\n",
    "c= c.rename(columns = {'ips_per_bidder_per_auction':'ip_auction_median'})\n",
    "bot_or_human = pd.merge(bot_or_human, c, on='bidder_id', how='left')\n",
    "\n",
    "c = b.groupby('bidder_id').ips_per_bidder_per_auction.mean().reset_index()\n",
    "c= c.rename(columns = {'ips_per_bidder_per_auction':'ip_auction_mean'})\n",
    "bot_or_human = pd.merge(bot_or_human, c, on='bidder_id', how='left')\n",
    "\n",
    "c = b.groupby('bidder_id').ips_per_bidder_per_auction.max().reset_index()\n",
    "c= c.rename(columns = {'ips_per_bidder_per_auction':'ip_auction_max'})\n",
    "bot_or_human = pd.merge(bot_or_human, c, on='bidder_id', how='left')\n",
    "\n",
    "#  拍卖者登录url总数\n",
    "b = bids.groupby(['bidder_id']).url.nunique().reset_index().rename(columns = {'url':'url_count'})\n",
    "bot_or_human = pd.merge(bot_or_human, b, on='bidder_id', how='left')\n",
    "\n",
    "#  拍卖者登录url熵\n",
    "b = bids.groupby(['bidder_id', 'url']).size().reset_index()\n",
    "b= b.rename(columns = {0:'url_count'})\n",
    "c = b.groupby('bidder_id').url_count.apply(log_entropy).reset_index()\n",
    "c= c.rename(columns = {'url_count':'url_entropy'})\n",
    "bot_or_human = pd.merge(bot_or_human, c, on='bidder_id', how='left')\n",
    "del b,c\n",
    "\n",
    "\n",
    "#  拍卖者每场拍卖登录url数的中位数平均数与最大值\n",
    "b = bids[['bidder_id', 'auction', 'url']].groupby(['bidder_id','auction']).url.nunique().reset_index()\n",
    "b= b.rename(columns = {'url':'urls_per_bidder_per_auction'})\n",
    "\n",
    "c = b.groupby('bidder_id').urls_per_bidder_per_auction.median().reset_index()\n",
    "c= c.rename(columns = {'urls_per_bidder_per_auction':'url_auction_median'})\n",
    "bot_or_human = pd.merge(bot_or_human, c, on='bidder_id', how='left')\n",
    "\n",
    "c = b.groupby('bidder_id').urls_per_bidder_per_auction.mean().reset_index()\n",
    "c= c.rename(columns = {'urls_per_bidder_per_auction':'url_auction_mean'})\n",
    "bot_or_human = pd.merge(bot_or_human, c, on='bidder_id', how='left')\n",
    "\n",
    "c = b.groupby('bidder_id').urls_per_bidder_per_auction.max().reset_index()\n",
    "c= c.rename(columns = {'urls_per_bidder_per_auction':'url_auction_max'})\n",
    "bot_or_human = pd.merge(bot_or_human, c, on='bidder_id', how='left')\n",
    "\n",
    "#  拍卖者登录设备总数\n",
    "b = bids.groupby(['bidder_id']).device.nunique().reset_index().rename(columns = {'device':'device_count'})\n",
    "bot_or_human = pd.merge(bot_or_human, b, on='bidder_id', how='left')\n",
    "\n",
    "#  拍卖者登录设备熵\n",
    "b = bids.groupby(['bidder_id', 'device']).size().reset_index()\n",
    "b= b.rename(columns = {0:'device_count'})\n",
    "c = b.groupby('bidder_id').device_count.apply(log_entropy).reset_index()\n",
    "c= c.rename(columns = {'device_count':'device_entropy'})\n",
    "bot_or_human = pd.merge(bot_or_human, c, on='bidder_id', how='left')\n",
    "del b,c\n",
    "\n",
    "#  拍卖者每场拍卖登录设备数的中位数平均数与最大值\n",
    "b = bids[['bidder_id', 'auction', 'device']].groupby(['bidder_id','auction']).device.nunique().reset_index()\n",
    "b= b.rename(columns = {'device':'devices_per_bidder_per_auction'})\n",
    "\n",
    "c = b.groupby('bidder_id').devices_per_bidder_per_auction.median().reset_index()\n",
    "c= c.rename(columns = {'devices_per_bidder_per_auction':'device_auction_median'})\n",
    "bot_or_human = pd.merge(bot_or_human, c, on='bidder_id', how='left')\n",
    "\n",
    "c = b.groupby('bidder_id').devices_per_bidder_per_auction.mean().reset_index()\n",
    "c= c.rename(columns = {'devices_per_bidder_per_auction':'device_auction_mean'})\n",
    "bot_or_human = pd.merge(bot_or_human, c, on='bidder_id', how='left')\n",
    "\n",
    "c = b.groupby('bidder_id').devices_per_bidder_per_auction.max().reset_index()\n",
    "c= c.rename(columns = {'devices_per_bidder_per_auction':'device_auction_max'})\n",
    "bot_or_human = pd.merge(bot_or_human, c, on='bidder_id', how='left')\n"
   ]
  },
  {
   "cell_type": "code",
   "execution_count": 6,
   "metadata": {
    "collapsed": false
   },
   "outputs": [],
   "source": [
    "# 时间单位校正\n",
    "one_day = 4547368124071.8799\n",
    "half_hour = one_day/48.0\n",
    "\n",
    "# 各场拍卖的开始时间\n",
    "times1 = bids.groupby('auction').time.min().reset_index().rename(columns = {'time':'startt'})\n",
    "# 结束时间\n",
    "times2 = bids.groupby('auction').time.max().reset_index().rename(columns = {'time':'endt'})\n",
    "#  拍卖时长\n",
    "times = pd.merge(times1, times2, on='auction', how='left')\n",
    "times['duration'] = times.endt - times.startt\n",
    "\n",
    "bids = pd.merge(bids, times[['auction', 'startt', 'endt']], on='auction', how='left')\n",
    "\n",
    "# 拍卖剩余时间与拍卖已经持续时间\n",
    "bids['t_until_end'] = bids.endt - bids.time\n",
    "bids['t_since_start'] = bids.time - bids.startt\n",
    "\n",
    "# 特征提取：拍卖结束前半小时出价数及占总出价数的比例\n",
    "b = bids[bids['t_until_end'] <= half_hour].groupby(['bidder_id']).size().reset_index().rename(columns = {0:'bids_count_lasthalfh'})\n",
    "bot_or_human = pd.merge(bot_or_human, b, on='bidder_id', how='left')\n",
    "bot_or_human['fraction_lasthalfhour'] = bot_or_human['bids_count_lasthalfh']/bot_or_human.bids_count\n",
    "\n",
    "bot_or_human['fraction_lasthalfhour'].fillna(0, inplace=True)\n",
    "\n",
    "\n",
    "# 特征提取：出价时间离拍卖开始和结束时间的中位数\n",
    "b1 = bids.groupby('bidder_id').t_until_end.median().reset_index().rename(columns = {'t_until_end':'t_until_end_median'})\n",
    "b2 = bids.groupby('bidder_id').t_since_start.median().reset_index().rename(columns = {'t_since_start':'t_since_start_median'})\n",
    "bot_or_human = pd.merge(bot_or_human, b1, on='bidder_id', how='left')\n",
    "bot_or_human = pd.merge(bot_or_human, b2, on='bidder_id', how='left')"
   ]
  },
  {
   "cell_type": "code",
   "execution_count": 7,
   "metadata": {
    "collapsed": false
   },
   "outputs": [
    {
     "name": "stderr",
     "output_type": "stream",
     "text": [
      "/usr/local/lib/python2.7/dist-packages/ipykernel/__main__.py:14: UserWarning: Boolean Series key will be reindexed to match DataFrame index.\n"
     ]
    }
   ],
   "source": [
    "# 特征提取：同一场内与前一个其他出价者出价的时间间隔的最小值，平均数，标准差\n",
    "\n",
    "b = bids.sort_values(['auction', 'time'])[['auction', 'time', 'bidder_id']]\n",
    "# 上一次出价id\n",
    "b['bidder_id_prev'] = pd.Series(np.append([np.nan], b.bidder_id.values[0:-1]), index=b.index)\n",
    "# 上一次出价所属拍卖\n",
    "b['auction_prev'] = pd.Series(np.append([np.nan], b.auction.values[0:-1]), index=b.index)\n",
    "# 上一次出价时间\n",
    "dt = np.append([np.nan], b.time.values[0:-1])\n",
    "b['time_prev'] = pd.Series(dt, index=b.index)\n",
    "# 时间间隔\n",
    "b['dt'] = b['time'] - b['time_prev']\n",
    "# 排除不在同一场次及同一场次的同一人出价\n",
    "c = b[b.bidder_id != b.bidder_id_prev][b.auction == b.auction_prev]\n",
    "# 参考 http://pandas.pydata.org/pandas-docs/stable/groupby.html\n",
    "d = c.groupby('bidder_id').dt.agg({'dt_min1':'min','dt_std1': 'std', 'dt_mean1': 'mean'}).reset_index()\n",
    "\n",
    "bot_or_human = pd.merge(bot_or_human, d[['bidder_id','dt_min1','dt_std1', 'dt_mean1']], on='bidder_id', how='left')"
   ]
  },
  {
   "cell_type": "code",
   "execution_count": 8,
   "metadata": {
    "collapsed": false
   },
   "outputs": [],
   "source": [
    "# 特征提取：与自己前一次出价的时间间隔的最小值，平均数，标准差\n",
    " \n",
    "b = bids.sort_values(['bidder_id', 'time'])[['bidder_id', 'time']]\n",
    "b['bidder_id_prev'] = pd.Series(np.append([np.nan], b.bidder_id.values[0:-1]), index=b.index)\n",
    "dt = np.append([np.nan], b.time.values[0:-1])\n",
    "b['time_prev'] = pd.Series(dt, index=b.index)\n",
    "b['dt'] = b['time'] - b['time_prev']\n",
    "c = b[b.bidder_id == b.bidder_id_prev]\n",
    "d = c.groupby('bidder_id').dt.agg({'dt_min2':'min','dt_std2': 'std', 'dt_mean2': 'mean'}).reset_index()\n",
    "bot_or_human = pd.merge(bot_or_human, d[['bidder_id','dt_min2','dt_std2', 'dt_mean2']], on='bidder_id', how='left')"
   ]
  },
  {
   "cell_type": "code",
   "execution_count": 9,
   "metadata": {
    "collapsed": true
   },
   "outputs": [],
   "source": [
    "# 保存数据\n",
    "\n",
    "bot_or_human.to_pickle('input/features.pkl')"
   ]
  }
 ],
 "metadata": {
  "kernelspec": {
   "display_name": "Python 2",
   "language": "python",
   "name": "python2"
  },
  "language_info": {
   "codemirror_mode": {
    "name": "ipython",
    "version": 2
   },
   "file_extension": ".py",
   "mimetype": "text/x-python",
   "name": "python",
   "nbconvert_exporter": "python",
   "pygments_lexer": "ipython2",
   "version": "2.7.12"
  }
 },
 "nbformat": 4,
 "nbformat_minor": 2
}
