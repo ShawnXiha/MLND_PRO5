{
 "cells": [
  {
   "cell_type": "code",
   "execution_count": 1,
   "metadata": {
    "collapsed": false
   },
   "outputs": [
    {
     "name": "stderr",
     "output_type": "stream",
     "text": [
      "/usr/local/lib/python2.7/dist-packages/sklearn/cross_validation.py:44: DeprecationWarning: This module was deprecated in version 0.18 in favor of the model_selection module into which all the refactored classes and functions are moved. Also note that the interface of the new CV iterators are different from that of this module. This module will be removed in 0.20.\n",
      "  \"This module will be removed in 0.20.\", DeprecationWarning)\n"
     ]
    }
   ],
   "source": [
    "import pandas as pd\n",
    "import numpy as np\n",
    "from matplotlib import pyplot as plt\n",
    "import warnings \n",
    "warnings.filterwarnings(\"ignore\")\n",
    "%matplotlib inline\n",
    "import seaborn as sns\n",
    "import xgboost as xgb\n",
    "from sklearn.linear_model import LogisticRegression\n",
    "from sklearn.ensemble import RandomForestClassifier\n",
    "from sklearn.ensemble import ExtraTreesClassifier\n",
    "from sklearn.ensemble import AdaBoostClassifier\n",
    "from sklearn.svm import SVC\n",
    "from sklearn.metrics import roc_auc_score\n",
    "from imblearn.over_sampling import SMOTE\n",
    "from sklearn.model_selection import GridSearchCV"
   ]
  },
  {
   "cell_type": "code",
   "execution_count": 2,
   "metadata": {
    "collapsed": false
   },
   "outputs": [],
   "source": [
    "bot_or_human = pd.read_pickle('input/cleaneddata.pkl')\n",
    "output = bot_or_human[bot_or_human.outcome==-1]['bidder_id'].reset_index()\n",
    "bot_or_human.drop(['bidder_id'],1,inplace=True)\n",
    "X= 1.0*bot_or_human[bot_or_human.outcome!=-1].drop('outcome', 1).values\n",
    "y = bot_or_human[bot_or_human.outcome!=-1].outcome.values\n",
    "X_test = 1.0*bot_or_human[bot_or_human.outcome ==-1].drop('outcome', 1).values\n",
    "# 通过过采样解决类别不均衡问题\n",
    "# http://contrib.scikit-learn.org/imbalanced-learn/auto_examples/over-sampling/plot_smote_bordeline_1.html#sphx-glr-auto-examples-over-sampling-plot-smote-bordeline-1-py\n",
    "# https://www.kaggle.com/c/facebook-recruiting-iv-human-or-bot/discussion/14661\n",
    "sm = SMOTE(kind='borderline1')\n",
    "X_resampled, y_resampled = sm.fit_sample(X, y)"
   ]
  },
  {
   "cell_type": "code",
   "execution_count": 10,
   "metadata": {
    "collapsed": false
   },
   "outputs": [],
   "source": [
    "# 基准方法\n",
    "benchmark = LogisticRegression(C =3*10**9, tol = 0.04, random_state=42,solver='liblinear',n_jobs=-1)\n",
    "#benchmark.fit(X_resampled, y_resampled)\n",
    "#pred_test = benchmark.predict_proba(X_test)[:,1]\n",
    "#output['prediction'] = pd.Series(pred_test, index=output.index)\n",
    "#output.drop('index', 1)\n",
    "#output.to_csv('benchmark.csv', sep=',', index=False, header=True, columns=['bidder_id', 'prediction'])\n"
   ]
  },
  {
   "cell_type": "markdown",
   "metadata": {},
   "source": [
    "### 基准模型得分\n",
    "\n",
    "![](src/ben.png)"
   ]
  },
  {
   "cell_type": "code",
   "execution_count": 30,
   "metadata": {
    "collapsed": false
   },
   "outputs": [
    {
     "name": "stdout",
     "output_type": "stream",
     "text": [
      "Fitting 5 folds for each of 6 candidates, totalling 30 fits\n"
     ]
    },
    {
     "name": "stderr",
     "output_type": "stream",
     "text": [
      "[Parallel(n_jobs=1)]: Done  30 out of  30 | elapsed:  1.6min finished\n"
     ]
    },
    {
     "name": "stdout",
     "output_type": "stream",
     "text": [
      "{'n_estimators': 350}\n",
      "0.997696060963\n"
     ]
    }
   ],
   "source": [
    "# 随机森林\n",
    "# n_estimators\n",
    "\n",
    "\n",
    "RFC = RandomForestClassifier(max_depth=None, min_samples_leaf=1, random_state=100,n_jobs = -1,criterion = 'entropy')\n",
    "\n",
    "\n",
    "param_grid = {\"n_estimators\":range(300,600,50)}\n",
    "\n",
    "grid_search = GridSearchCV(RFC,param_grid=param_grid,cv=5, verbose=1,\n",
    "                          scoring='roc_auc',error_score=0,refit=True)\n",
    "grid_search.fit(X_resampled, y_resampled)\n",
    "print grid_search.best_params_\n",
    "print grid_search.best_score_\n"
   ]
  },
  {
   "cell_type": "code",
   "execution_count": 31,
   "metadata": {
    "collapsed": false
   },
   "outputs": [
    {
     "name": "stdout",
     "output_type": "stream",
     "text": [
      "Fitting 5 folds for each of 8 candidates, totalling 40 fits\n"
     ]
    },
    {
     "name": "stderr",
     "output_type": "stream",
     "text": [
      "[Parallel(n_jobs=1)]: Done  40 out of  40 | elapsed:  1.8min finished\n"
     ]
    },
    {
     "name": "stdout",
     "output_type": "stream",
     "text": [
      "{'max_features': 3}\n",
      "0.997721416628\n"
     ]
    }
   ],
   "source": [
    "# 确定max_features的最佳值\n",
    "RFC = RandomForestClassifier(max_depth=None, min_samples_leaf=1, random_state=100,n_jobs = -1,criterion = 'entropy',n_estimators=350)\n",
    "param_grid = {\"max_features\":range(2,10)}\n",
    "grid_search = GridSearchCV(RFC,param_grid=param_grid,cv=5, verbose=1,\n",
    "                          scoring='roc_auc',error_score=0,refit=True)\n",
    "grid_search.fit(X_resampled, y_resampled)\n",
    "print grid_search.best_params_\n",
    "print grid_search.best_score_"
   ]
  },
  {
   "cell_type": "code",
   "execution_count": 32,
   "metadata": {
    "collapsed": true
   },
   "outputs": [],
   "source": [
    "# 提交随机森林的测试结果\n",
    "# 用5个不同random_state的预测结果的平均值来做最后的推断\n",
    "pred_test = np.zeros(X_test.shape[0])\n",
    "for i in range(1,6):\n",
    "    RFC = RandomForestClassifier(max_depth=None, min_samples_leaf=1, max_features=3, random_state=i*20\n",
    "                                 ,n_jobs = -1,criterion = 'entropy',n_estimators=350)\n",
    "    RFC.fit(X_resampled, y_resampled)\n",
    "    a = RFC.predict_proba(X_test)[:,1]\n",
    "    pred_test += a\n",
    "pred_test1 = 1.0*pred_test/5\n",
    "output['prediction'] = pd.Series(pred_test1, index=output.index)\n",
    "output.drop('index', 1)\n",
    "output.to_csv('RFC.csv', sep=',', index=False, header=True, columns=['bidder_id', 'prediction'])"
   ]
  },
  {
   "cell_type": "markdown",
   "metadata": {},
   "source": [
    "## 随机森林预测得分\n",
    "\n",
    "![ROC_space](src/rfc.png)"
   ]
  },
  {
   "cell_type": "code",
   "execution_count": 27,
   "metadata": {
    "collapsed": false
   },
   "outputs": [
    {
     "name": "stdout",
     "output_type": "stream",
     "text": [
      "Fitting 5 folds for each of 5 candidates, totalling 25 fits\n"
     ]
    },
    {
     "name": "stderr",
     "output_type": "stream",
     "text": [
      "[Parallel(n_jobs=1)]: Done  25 out of  25 | elapsed:  1.8min finished\n"
     ]
    },
    {
     "name": "stdout",
     "output_type": "stream",
     "text": [
      "{'n_estimators': 950}\n",
      "0.998541021354\n"
     ]
    }
   ],
   "source": [
    "# 极端随机树\n",
    "# n_estimators\n",
    "ETC = ExtraTreesClassifier(n_estimators=3000, max_depth=None, min_samples_leaf=1, random_state=0)\n",
    "\n",
    "param_grid = {\"n_estimators\":[800,850,900,950,1000]}\n",
    "grid_search = GridSearchCV(ETC,param_grid=param_grid,cv=5, verbose=1,\n",
    "                          scoring='roc_auc',error_score=0,refit=True)\n",
    "grid_search.fit(X_resampled, y_resampled)\n",
    "print grid_search.best_params_\n",
    "print grid_search.best_score_"
   ]
  },
  {
   "cell_type": "code",
   "execution_count": 29,
   "metadata": {
    "collapsed": false
   },
   "outputs": [
    {
     "name": "stdout",
     "output_type": "stream",
     "text": [
      "Fitting 5 folds for each of 10 candidates, totalling 50 fits\n"
     ]
    },
    {
     "name": "stderr",
     "output_type": "stream",
     "text": [
      "[Parallel(n_jobs=1)]: Done  50 out of  50 | elapsed:  4.7min finished\n"
     ]
    },
    {
     "name": "stdout",
     "output_type": "stream",
     "text": [
      "{'max_features': 17}\n",
      "0.998679449576\n"
     ]
    }
   ],
   "source": [
    "# max_features\n",
    "ETC = ExtraTreesClassifier(n_estimators=950, max_depth=None, min_samples_leaf=1, random_state=0)\n",
    "\n",
    "param_grid = {\"max_features\":range(9,19)}\n",
    "grid_search = GridSearchCV(ETC,param_grid=param_grid,cv=5, verbose=1,\n",
    "                          scoring='roc_auc',error_score=0,refit=True)\n",
    "grid_search.fit(X_resampled, y_resampled)\n",
    "print grid_search.best_params_\n",
    "print grid_search.best_score_"
   ]
  },
  {
   "cell_type": "code",
   "execution_count": 33,
   "metadata": {
    "collapsed": true
   },
   "outputs": [],
   "source": [
    "ETC = ExtraTreesClassifier(n_estimators=950,max_features=17, max_depth=None, min_samples_leaf=1, random_state=0)\n",
    "\n",
    "\n",
    "\n",
    "# 提交极端随机树的测试结果\n",
    "# 用5个不同random_state的预测结果的平均值来做最后的推断\n",
    "pred_test = np.zeros(X_test.shape[0])\n",
    "for i in range(1,6):\n",
    "    ETC = ExtraTreesClassifier(n_estimators=950,max_features=17,\n",
    "                               max_depth=None, min_samples_leaf=1, random_state=i*100)\n",
    "    ETC.fit(X_resampled, y_resampled)\n",
    "    a = ETC.predict_proba(X_test)[:,1]\n",
    "    pred_test += a\n",
    "pred_test2 = 1.0*pred_test/5\n",
    "output['prediction'] = pd.Series(pred_test2, index=output.index)\n",
    "output.drop('index', 1)\n",
    "output.to_csv('ETC.csv', sep=',', index=False, header=True, columns=['bidder_id', 'prediction'])\n"
   ]
  },
  {
   "cell_type": "markdown",
   "metadata": {},
   "source": [
    "## 极端随机树测试结果\n",
    "\n",
    "![ROC_space](src/etc.png)"
   ]
  },
  {
   "cell_type": "code",
   "execution_count": 7,
   "metadata": {
    "collapsed": false
   },
   "outputs": [
    {
     "name": "stdout",
     "output_type": "stream",
     "text": [
      "Fitting 5 folds for each of 15 candidates, totalling 75 fits\n",
      "[CV] n_estimators=500 ................................................\n",
      "[CV] ................. n_estimators=500, score=0.992715, total=   1.7s\n",
      "[CV] n_estimators=500 ................................................\n"
     ]
    },
    {
     "name": "stderr",
     "output_type": "stream",
     "text": [
      "[Parallel(n_jobs=1)]: Done   1 out of   1 | elapsed:    1.8s remaining:    0.0s\n"
     ]
    },
    {
     "name": "stdout",
     "output_type": "stream",
     "text": [
      "[CV] ................. n_estimators=500, score=0.998849, total=   1.5s\n",
      "[CV] n_estimators=500 ................................................\n"
     ]
    },
    {
     "name": "stderr",
     "output_type": "stream",
     "text": [
      "[Parallel(n_jobs=1)]: Done   2 out of   2 | elapsed:    3.3s remaining:    0.0s\n"
     ]
    },
    {
     "name": "stdout",
     "output_type": "stream",
     "text": [
      "[CV] ................. n_estimators=500, score=0.998554, total=   1.5s\n",
      "[CV] n_estimators=500 ................................................\n"
     ]
    },
    {
     "name": "stderr",
     "output_type": "stream",
     "text": [
      "[Parallel(n_jobs=1)]: Done   3 out of   3 | elapsed:    4.8s remaining:    0.0s\n"
     ]
    },
    {
     "name": "stdout",
     "output_type": "stream",
     "text": [
      "[CV] ................. n_estimators=500, score=0.998037, total=   1.8s\n",
      "[CV] n_estimators=500 ................................................\n"
     ]
    },
    {
     "name": "stderr",
     "output_type": "stream",
     "text": [
      "[Parallel(n_jobs=1)]: Done   4 out of   4 | elapsed:    6.6s remaining:    0.0s\n"
     ]
    },
    {
     "name": "stdout",
     "output_type": "stream",
     "text": [
      "[CV] ................. n_estimators=500, score=0.999863, total=   1.3s\n",
      "[CV] n_estimators=520 ................................................\n"
     ]
    },
    {
     "name": "stderr",
     "output_type": "stream",
     "text": [
      "[Parallel(n_jobs=1)]: Done   5 out of   5 | elapsed:    8.0s remaining:    0.0s\n"
     ]
    },
    {
     "name": "stdout",
     "output_type": "stream",
     "text": [
      "[CV] ................. n_estimators=520, score=0.992729, total=   1.6s\n",
      "[CV] n_estimators=520 ................................................\n"
     ]
    },
    {
     "name": "stderr",
     "output_type": "stream",
     "text": [
      "[Parallel(n_jobs=1)]: Done   6 out of   6 | elapsed:    9.7s remaining:    0.0s\n"
     ]
    },
    {
     "name": "stdout",
     "output_type": "stream",
     "text": [
      "[CV] ................. n_estimators=520, score=0.998862, total=   1.3s\n",
      "[CV] n_estimators=520 ................................................\n"
     ]
    },
    {
     "name": "stderr",
     "output_type": "stream",
     "text": [
      "[Parallel(n_jobs=1)]: Done   7 out of   7 | elapsed:   11.0s remaining:    0.0s\n"
     ]
    },
    {
     "name": "stdout",
     "output_type": "stream",
     "text": [
      "[CV] ................. n_estimators=520, score=0.998616, total=   1.6s\n",
      "[CV] n_estimators=520 ................................................\n"
     ]
    },
    {
     "name": "stderr",
     "output_type": "stream",
     "text": [
      "[Parallel(n_jobs=1)]: Done   8 out of   8 | elapsed:   12.6s remaining:    0.0s\n"
     ]
    },
    {
     "name": "stdout",
     "output_type": "stream",
     "text": [
      "[CV] ................. n_estimators=520, score=0.998088, total=   1.6s\n",
      "[CV] n_estimators=520 ................................................\n"
     ]
    },
    {
     "name": "stderr",
     "output_type": "stream",
     "text": [
      "[Parallel(n_jobs=1)]: Done   9 out of   9 | elapsed:   14.2s remaining:    0.0s\n"
     ]
    },
    {
     "name": "stdout",
     "output_type": "stream",
     "text": [
      "[CV] ................. n_estimators=520, score=0.999856, total=   1.7s\n",
      "[CV] n_estimators=540 ................................................\n",
      "[CV] ................. n_estimators=540, score=0.992661, total=   1.6s\n",
      "[CV] n_estimators=540 ................................................\n",
      "[CV] ................. n_estimators=540, score=0.998876, total=   1.6s\n",
      "[CV] n_estimators=540 ................................................\n",
      "[CV] ................. n_estimators=540, score=0.998554, total=   1.3s\n",
      "[CV] n_estimators=540 ................................................\n",
      "[CV] ................. n_estimators=540, score=0.998109, total=   1.3s\n",
      "[CV] n_estimators=540 ................................................\n",
      "[CV] ................. n_estimators=540, score=0.999863, total=   1.3s\n",
      "[CV] n_estimators=560 ................................................\n",
      "[CV] ................. n_estimators=560, score=0.992647, total=   2.1s\n",
      "[CV] n_estimators=560 ................................................\n",
      "[CV] ................. n_estimators=560, score=0.998849, total=   1.4s\n",
      "[CV] n_estimators=560 ................................................\n",
      "[CV] ................. n_estimators=560, score=0.998561, total=   1.6s\n",
      "[CV] n_estimators=560 ................................................\n",
      "[CV] ................. n_estimators=560, score=0.998129, total=   1.6s\n",
      "[CV] n_estimators=560 ................................................\n",
      "[CV] ................. n_estimators=560, score=0.999877, total=   1.3s\n",
      "[CV] n_estimators=580 ................................................\n",
      "[CV] ................. n_estimators=580, score=0.992592, total=   1.8s\n",
      "[CV] n_estimators=580 ................................................\n",
      "[CV] ................. n_estimators=580, score=0.998917, total=   1.4s\n",
      "[CV] n_estimators=580 ................................................\n",
      "[CV] ................. n_estimators=580, score=0.998554, total=   1.4s\n",
      "[CV] n_estimators=580 ................................................\n",
      "[CV] ................. n_estimators=580, score=0.998129, total=   1.8s\n",
      "[CV] n_estimators=580 ................................................\n",
      "[CV] ................. n_estimators=580, score=0.999877, total=   1.4s\n",
      "[CV] n_estimators=600 ................................................\n",
      "[CV] ................. n_estimators=600, score=0.992530, total=   1.8s\n",
      "[CV] n_estimators=600 ................................................\n",
      "[CV] ................. n_estimators=600, score=0.998993, total=   2.8s\n",
      "[CV] n_estimators=600 ................................................\n",
      "[CV] ................. n_estimators=600, score=0.998581, total=   1.9s\n",
      "[CV] n_estimators=600 ................................................\n",
      "[CV] ................. n_estimators=600, score=0.998184, total=   1.9s\n",
      "[CV] n_estimators=600 ................................................\n",
      "[CV] ................. n_estimators=600, score=0.999870, total=   1.8s\n",
      "[CV] n_estimators=620 ................................................\n",
      "[CV] ................. n_estimators=620, score=0.992496, total=   1.8s\n",
      "[CV] n_estimators=620 ................................................\n",
      "[CV] ................. n_estimators=620, score=0.998924, total=   1.8s\n",
      "[CV] n_estimators=620 ................................................\n",
      "[CV] ................. n_estimators=620, score=0.998568, total=   1.9s\n",
      "[CV] n_estimators=620 ................................................\n",
      "[CV] ................. n_estimators=620, score=0.998205, total=   1.9s\n",
      "[CV] n_estimators=620 ................................................\n",
      "[CV] ................. n_estimators=620, score=0.999884, total=   1.9s\n",
      "[CV] n_estimators=640 ................................................\n",
      "[CV] ................. n_estimators=640, score=0.992524, total=   1.8s\n",
      "[CV] n_estimators=640 ................................................\n",
      "[CV] ................. n_estimators=640, score=0.998945, total=   2.0s\n",
      "[CV] n_estimators=640 ................................................\n",
      "[CV] ................. n_estimators=640, score=0.998588, total=   2.0s\n",
      "[CV] n_estimators=640 ................................................\n",
      "[CV] ................. n_estimators=640, score=0.998191, total=   2.1s\n",
      "[CV] n_estimators=640 ................................................\n",
      "[CV] ................. n_estimators=640, score=0.999877, total=   2.0s\n",
      "[CV] n_estimators=660 ................................................\n",
      "[CV] ................. n_estimators=660, score=0.992489, total=   2.0s\n",
      "[CV] n_estimators=660 ................................................\n",
      "[CV] ................. n_estimators=660, score=0.998883, total=   2.1s\n",
      "[CV] n_estimators=660 ................................................\n",
      "[CV] ................. n_estimators=660, score=0.998623, total=   2.6s\n",
      "[CV] n_estimators=660 ................................................\n",
      "[CV] ................. n_estimators=660, score=0.998246, total=   1.8s\n",
      "[CV] n_estimators=660 ................................................\n",
      "[CV] ................. n_estimators=660, score=0.999884, total=   2.1s\n",
      "[CV] n_estimators=680 ................................................\n",
      "[CV] ................. n_estimators=680, score=0.992503, total=   2.1s\n",
      "[CV] n_estimators=680 ................................................\n",
      "[CV] ................. n_estimators=680, score=0.998972, total=   2.2s\n",
      "[CV] n_estimators=680 ................................................\n",
      "[CV] ................. n_estimators=680, score=0.998629, total=   1.6s\n",
      "[CV] n_estimators=680 ................................................\n",
      "[CV] ................. n_estimators=680, score=0.998218, total=   2.3s\n",
      "[CV] n_estimators=680 ................................................\n",
      "[CV] ................. n_estimators=680, score=0.999884, total=   2.0s\n",
      "[CV] n_estimators=700 ................................................\n",
      "[CV] ................. n_estimators=700, score=0.992482, total=   2.1s\n",
      "[CV] n_estimators=700 ................................................\n",
      "[CV] ................. n_estimators=700, score=0.998979, total=   1.7s\n",
      "[CV] n_estimators=700 ................................................\n",
      "[CV] ................. n_estimators=700, score=0.998616, total=   1.7s\n",
      "[CV] n_estimators=700 ................................................\n",
      "[CV] ................. n_estimators=700, score=0.998239, total=   2.1s\n",
      "[CV] n_estimators=700 ................................................\n",
      "[CV] ................. n_estimators=700, score=0.999877, total=   1.8s\n",
      "[CV] n_estimators=720 ................................................\n",
      "[CV] ................. n_estimators=720, score=0.992503, total=   2.5s\n",
      "[CV] n_estimators=720 ................................................\n",
      "[CV] ................. n_estimators=720, score=0.999020, total=   2.4s\n",
      "[CV] n_estimators=720 ................................................\n",
      "[CV] ................. n_estimators=720, score=0.998575, total=   3.0s\n",
      "[CV] n_estimators=720 ................................................\n",
      "[CV] ................. n_estimators=720, score=0.998259, total=   1.8s\n",
      "[CV] n_estimators=720 ................................................\n",
      "[CV] ................. n_estimators=720, score=0.999877, total=   1.7s\n",
      "[CV] n_estimators=740 ................................................\n",
      "[CV] ................. n_estimators=740, score=0.992551, total=   2.4s\n",
      "[CV] n_estimators=740 ................................................\n",
      "[CV] ................. n_estimators=740, score=0.998910, total=   2.9s\n",
      "[CV] n_estimators=740 ................................................\n",
      "[CV] ................. n_estimators=740, score=0.998595, total=   2.5s\n",
      "[CV] n_estimators=740 ................................................\n",
      "[CV] ................. n_estimators=740, score=0.998273, total=   1.9s\n",
      "[CV] n_estimators=740 ................................................\n",
      "[CV] ................. n_estimators=740, score=0.999870, total=   1.9s\n",
      "[CV] n_estimators=760 ................................................\n",
      "[CV] ................. n_estimators=760, score=0.992599, total=   2.2s\n",
      "[CV] n_estimators=760 ................................................\n",
      "[CV] ................. n_estimators=760, score=0.998972, total=   2.0s\n",
      "[CV] n_estimators=760 ................................................\n",
      "[CV] ................. n_estimators=760, score=0.998581, total=   1.8s\n",
      "[CV] n_estimators=760 ................................................\n",
      "[CV] ................. n_estimators=760, score=0.998287, total=   1.7s\n",
      "[CV] n_estimators=760 ................................................\n",
      "[CV] ................. n_estimators=760, score=0.999877, total=   2.0s\n",
      "[CV] n_estimators=780 ................................................\n",
      "[CV] ................. n_estimators=780, score=0.992592, total=   1.7s\n",
      "[CV] n_estimators=780 ................................................\n",
      "[CV] ................. n_estimators=780, score=0.998958, total=   1.9s\n",
      "[CV] n_estimators=780 ................................................\n",
      "[CV] ................. n_estimators=780, score=0.998568, total=   1.8s\n",
      "[CV] n_estimators=780 ................................................\n",
      "[CV] ................. n_estimators=780, score=0.998287, total=   2.7s\n",
      "[CV] n_estimators=780 ................................................\n",
      "[CV] ................. n_estimators=780, score=0.999884, total=   2.4s\n"
     ]
    },
    {
     "name": "stderr",
     "output_type": "stream",
     "text": [
      "[Parallel(n_jobs=1)]: Done  75 out of  75 | elapsed:  2.4min finished\n"
     ]
    },
    {
     "name": "stdout",
     "output_type": "stream",
     "text": [
      "{'n_estimators': 760}\n",
      "0.997663167128\n"
     ]
    }
   ],
   "source": [
    "# 梯度提升算法\n",
    "# 参考https://jessesw.com/XG-Boost/\n",
    "# 参考https://www.analyticsvidhya.com/blog/2016/03/complete-guide-parameter-tuning-xgboost-with-codes-python/\n",
    "# step1： 调n_estimators\n",
    "param_grid = {\"n_estimators\":range(500,800,20)}\n",
    "\n",
    "XGB = xgb.XGBRegressor(\n",
    "                 colsample_bytree=0.2,\n",
    "                 gamma=0.0,\n",
    "                 learning_rate=0.1,\n",
    "                 max_depth=4,\n",
    "                 min_child_weight=1.5,\n",
    "                 n_estimators=7200,                                                                  \n",
    "                 reg_alpha=0.9,\n",
    "                 reg_lambda=0.6,\n",
    "                 subsample=0.2,\n",
    "                 seed=42,\n",
    "                 silent=1)\n",
    "\n",
    "grid_search = GridSearchCV(XGB,param_grid=param_grid,cv=5, verbose=10,\n",
    "                          scoring='roc_auc',error_score=0,refit=True)\n",
    "grid_search.fit(X_resampled, y_resampled)\n",
    "print grid_search.best_params_\n",
    "print grid_search.best_score_\n"
   ]
  },
  {
   "cell_type": "code",
   "execution_count": 9,
   "metadata": {
    "collapsed": false,
    "scrolled": true
   },
   "outputs": [
    {
     "name": "stdout",
     "output_type": "stream",
     "text": [
      "Fitting 5 folds for each of 9 candidates, totalling 45 fits\n",
      "[CV] max_depth=12, min_child_weight=1 ................................\n",
      "[CV] ................. max_depth=12, min_child_weight=1, total=   1.6s\n",
      "[CV] max_depth=12, min_child_weight=1 ................................\n"
     ]
    },
    {
     "name": "stderr",
     "output_type": "stream",
     "text": [
      "[Parallel(n_jobs=1)]: Done   1 out of   1 | elapsed:    1.7s remaining:    0.0s\n"
     ]
    },
    {
     "name": "stdout",
     "output_type": "stream",
     "text": [
      "[CV] ................. max_depth=12, min_child_weight=1, total=   1.8s\n",
      "[CV] max_depth=12, min_child_weight=1 ................................\n",
      "[CV] ................. max_depth=12, min_child_weight=1, total=   1.9s\n",
      "[CV] max_depth=12, min_child_weight=1 ................................\n",
      "[CV] ................. max_depth=12, min_child_weight=1, total=   1.9s\n",
      "[CV] max_depth=12, min_child_weight=1 ................................\n",
      "[CV] ................. max_depth=12, min_child_weight=1, total=   1.7s\n",
      "[CV] max_depth=12, min_child_weight=2 ................................\n",
      "[CV] ................. max_depth=12, min_child_weight=2, total=   1.8s\n",
      "[CV] max_depth=12, min_child_weight=2 ................................\n",
      "[CV] ................. max_depth=12, min_child_weight=2, total=   3.7s\n",
      "[CV] max_depth=12, min_child_weight=2 ................................\n",
      "[CV] ................. max_depth=12, min_child_weight=2, total=   3.5s\n",
      "[CV] max_depth=12, min_child_weight=2 ................................\n",
      "[CV] ................. max_depth=12, min_child_weight=2, total=   2.8s\n",
      "[CV] max_depth=12, min_child_weight=2 ................................\n",
      "[CV] ................. max_depth=12, min_child_weight=2, total=   2.9s\n",
      "[CV] max_depth=12, min_child_weight=3 ................................\n",
      "[CV] ................. max_depth=12, min_child_weight=3, total=   2.7s\n",
      "[CV] max_depth=12, min_child_weight=3 ................................\n",
      "[CV] ................. max_depth=12, min_child_weight=3, total=   2.6s\n",
      "[CV] max_depth=12, min_child_weight=3 ................................\n",
      "[CV] ................. max_depth=12, min_child_weight=3, total=   2.6s\n",
      "[CV] max_depth=12, min_child_weight=3 ................................\n",
      "[CV] ................. max_depth=12, min_child_weight=3, total=   2.5s\n",
      "[CV] max_depth=12, min_child_weight=3 ................................\n",
      "[CV] ................. max_depth=12, min_child_weight=3, total=   2.8s\n",
      "[CV] max_depth=13, min_child_weight=1 ................................\n",
      "[CV] ................. max_depth=13, min_child_weight=1, total=   2.6s\n",
      "[CV] max_depth=13, min_child_weight=1 ................................\n",
      "[CV] ................. max_depth=13, min_child_weight=1, total=   3.0s\n",
      "[CV] max_depth=13, min_child_weight=1 ................................\n",
      "[CV] ................. max_depth=13, min_child_weight=1, total=   3.0s\n",
      "[CV] max_depth=13, min_child_weight=1 ................................\n",
      "[CV] ................. max_depth=13, min_child_weight=1, total=   2.8s\n",
      "[CV] max_depth=13, min_child_weight=1 ................................\n",
      "[CV] ................. max_depth=13, min_child_weight=1, total=   3.0s\n",
      "[CV] max_depth=13, min_child_weight=2 ................................\n",
      "[CV] ................. max_depth=13, min_child_weight=2, total=   2.3s\n",
      "[CV] max_depth=13, min_child_weight=2 ................................\n",
      "[CV] ................. max_depth=13, min_child_weight=2, total=   2.6s\n",
      "[CV] max_depth=13, min_child_weight=2 ................................\n",
      "[CV] ................. max_depth=13, min_child_weight=2, total=   2.6s\n",
      "[CV] max_depth=13, min_child_weight=2 ................................\n",
      "[CV] ................. max_depth=13, min_child_weight=2, total=   2.7s\n",
      "[CV] max_depth=13, min_child_weight=2 ................................\n",
      "[CV] ................. max_depth=13, min_child_weight=2, total=   3.2s\n",
      "[CV] max_depth=13, min_child_weight=3 ................................\n",
      "[CV] ................. max_depth=13, min_child_weight=3, total=   1.9s\n",
      "[CV] max_depth=13, min_child_weight=3 ................................\n",
      "[CV] ................. max_depth=13, min_child_weight=3, total=   2.7s\n",
      "[CV] max_depth=13, min_child_weight=3 ................................\n",
      "[CV] ................. max_depth=13, min_child_weight=3, total=   1.9s\n",
      "[CV] max_depth=13, min_child_weight=3 ................................\n",
      "[CV] ................. max_depth=13, min_child_weight=3, total=   1.6s\n",
      "[CV] max_depth=13, min_child_weight=3 ................................\n",
      "[CV] ................. max_depth=13, min_child_weight=3, total=   1.7s\n",
      "[CV] max_depth=14, min_child_weight=1 ................................\n",
      "[CV] ................. max_depth=14, min_child_weight=1, total=   2.3s\n",
      "[CV] max_depth=14, min_child_weight=1 ................................\n",
      "[CV] ................. max_depth=14, min_child_weight=1, total=   2.0s\n",
      "[CV] max_depth=14, min_child_weight=1 ................................\n",
      "[CV] ................. max_depth=14, min_child_weight=1, total=   2.0s\n",
      "[CV] max_depth=14, min_child_weight=1 ................................\n",
      "[CV] ................. max_depth=14, min_child_weight=1, total=   5.2s\n",
      "[CV] max_depth=14, min_child_weight=1 ................................\n",
      "[CV] ................. max_depth=14, min_child_weight=1, total=   4.0s\n",
      "[CV] max_depth=14, min_child_weight=2 ................................\n",
      "[CV] ................. max_depth=14, min_child_weight=2, total=   2.3s\n",
      "[CV] max_depth=14, min_child_weight=2 ................................\n",
      "[CV] ................. max_depth=14, min_child_weight=2, total=   5.8s\n",
      "[CV] max_depth=14, min_child_weight=2 ................................\n",
      "[CV] ................. max_depth=14, min_child_weight=2, total=   2.4s\n",
      "[CV] max_depth=14, min_child_weight=2 ................................\n",
      "[CV] ................. max_depth=14, min_child_weight=2, total=   1.8s\n",
      "[CV] max_depth=14, min_child_weight=2 ................................\n",
      "[CV] ................. max_depth=14, min_child_weight=2, total=   1.8s\n",
      "[CV] max_depth=14, min_child_weight=3 ................................\n",
      "[CV] ................. max_depth=14, min_child_weight=3, total=   1.6s\n",
      "[CV] max_depth=14, min_child_weight=3 ................................\n",
      "[CV] ................. max_depth=14, min_child_weight=3, total=   1.6s\n",
      "[CV] max_depth=14, min_child_weight=3 ................................\n",
      "[CV] ................. max_depth=14, min_child_weight=3, total=   1.7s\n",
      "[CV] max_depth=14, min_child_weight=3 ................................\n",
      "[CV] ................. max_depth=14, min_child_weight=3, total=   1.7s\n",
      "[CV] max_depth=14, min_child_weight=3 ................................\n",
      "[CV] ................. max_depth=14, min_child_weight=3, total=   1.7s\n"
     ]
    },
    {
     "name": "stderr",
     "output_type": "stream",
     "text": [
      "[Parallel(n_jobs=1)]: Done  45 out of  45 | elapsed:  1.9min finished\n"
     ]
    },
    {
     "name": "stdout",
     "output_type": "stream",
     "text": [
      "{'max_depth': 12, 'min_child_weight': 1}\n",
      "0.99783311861\n"
     ]
    }
   ],
   "source": [
    "# step 2 调节树的参数 max_depth \n",
    "\n",
    "\n",
    "param_grid = {\n",
    " 'max_depth':[12,13,14],\n",
    "    'min_child_weight':[1,2,3]\n",
    "}\n",
    "\n",
    "\n",
    "XGB  = xgb.XGBClassifier(\n",
    " learning_rate =0.1,\n",
    " n_estimators=760,\n",
    " max_depth=5,\n",
    " min_child_weight=1,\n",
    " gamma=0,\n",
    " subsample=0.8,\n",
    " colsample_bytree=0.8,\n",
    " objective= 'binary:logistic',\n",
    " nthread=4,\n",
    " scale_pos_weight=1,\n",
    " seed=27)\n",
    "\n",
    "grid_search = GridSearchCV(XGB,param_grid=param_grid,cv=5, verbose=2,\n",
    "                          scoring='roc_auc',error_score=0,refit=True)\n",
    "grid_search.fit(X_resampled, y_resampled)\n",
    "print grid_search.best_params_\n",
    "print grid_search.best_score_"
   ]
  },
  {
   "cell_type": "code",
   "execution_count": 4,
   "metadata": {
    "collapsed": false
   },
   "outputs": [
    {
     "name": "stdout",
     "output_type": "stream",
     "text": [
      "Fitting 5 folds for each of 5 candidates, totalling 25 fits\n",
      "[CV] gamma=0.0 .......................................................\n",
      "[CV] ........................................ gamma=0.0, total=   1.8s\n",
      "[CV] gamma=0.0 .......................................................\n"
     ]
    },
    {
     "name": "stderr",
     "output_type": "stream",
     "text": [
      "[Parallel(n_jobs=1)]: Done   1 out of   1 | elapsed:    1.9s remaining:    0.0s\n"
     ]
    },
    {
     "name": "stdout",
     "output_type": "stream",
     "text": [
      "[CV] ........................................ gamma=0.0, total=   1.6s\n",
      "[CV] gamma=0.0 .......................................................\n",
      "[CV] ........................................ gamma=0.0, total=   1.6s\n",
      "[CV] gamma=0.0 .......................................................\n",
      "[CV] ........................................ gamma=0.0, total=   1.9s\n",
      "[CV] gamma=0.0 .......................................................\n",
      "[CV] ........................................ gamma=0.0, total=   1.9s\n",
      "[CV] gamma=0.1 .......................................................\n",
      "[CV] ........................................ gamma=0.1, total=   1.6s\n",
      "[CV] gamma=0.1 .......................................................\n",
      "[CV] ........................................ gamma=0.1, total=   1.8s\n",
      "[CV] gamma=0.1 .......................................................\n",
      "[CV] ........................................ gamma=0.1, total=   1.8s\n",
      "[CV] gamma=0.1 .......................................................\n",
      "[CV] ........................................ gamma=0.1, total=   1.8s\n",
      "[CV] gamma=0.1 .......................................................\n",
      "[CV] ........................................ gamma=0.1, total=   2.3s\n",
      "[CV] gamma=0.2 .......................................................\n",
      "[CV] ........................................ gamma=0.2, total=   2.4s\n",
      "[CV] gamma=0.2 .......................................................\n",
      "[CV] ........................................ gamma=0.2, total=   1.9s\n",
      "[CV] gamma=0.2 .......................................................\n",
      "[CV] ........................................ gamma=0.2, total=   2.2s\n",
      "[CV] gamma=0.2 .......................................................\n",
      "[CV] ........................................ gamma=0.2, total=   2.8s\n",
      "[CV] gamma=0.2 .......................................................\n",
      "[CV] ........................................ gamma=0.2, total=   3.5s\n",
      "[CV] gamma=0.3 .......................................................\n",
      "[CV] ........................................ gamma=0.3, total=   3.0s\n",
      "[CV] gamma=0.3 .......................................................\n",
      "[CV] ........................................ gamma=0.3, total=   3.0s\n",
      "[CV] gamma=0.3 .......................................................\n",
      "[CV] ........................................ gamma=0.3, total=   3.5s\n",
      "[CV] gamma=0.3 .......................................................\n",
      "[CV] ........................................ gamma=0.3, total=   3.2s\n",
      "[CV] gamma=0.3 .......................................................\n",
      "[CV] ........................................ gamma=0.3, total=   2.9s\n",
      "[CV] gamma=0.4 .......................................................\n",
      "[CV] ........................................ gamma=0.4, total=   3.0s\n",
      "[CV] gamma=0.4 .......................................................\n",
      "[CV] ........................................ gamma=0.4, total=   3.2s\n",
      "[CV] gamma=0.4 .......................................................\n",
      "[CV] ........................................ gamma=0.4, total=   3.4s\n",
      "[CV] gamma=0.4 .......................................................\n",
      "[CV] ........................................ gamma=0.4, total=   3.4s\n",
      "[CV] gamma=0.4 .......................................................\n",
      "[CV] ........................................ gamma=0.4, total=   3.2s\n"
     ]
    },
    {
     "name": "stderr",
     "output_type": "stream",
     "text": [
      "[Parallel(n_jobs=1)]: Done  25 out of  25 | elapsed:  1.1min finished\n"
     ]
    },
    {
     "name": "stdout",
     "output_type": "stream",
     "text": [
      "{'gamma': 0.0}\n",
      "0.997835859763\n"
     ]
    }
   ],
   "source": [
    "# Step 3: Tune gamma\n",
    "\n",
    "param_grid = {\n",
    " 'gamma':[i/10.0 for i in range(0,5)]\n",
    "}\n",
    "\n",
    "\n",
    "XGB  = xgb.XGBClassifier(\n",
    " learning_rate =0.1,\n",
    " n_estimators=760,\n",
    " max_depth=12,\n",
    " min_child_weight=1,\n",
    " gamma=0,\n",
    " subsample=0.8,\n",
    " colsample_bytree=0.8,\n",
    " objective= 'binary:logistic',\n",
    " nthread=4,\n",
    " scale_pos_weight=1,\n",
    " seed=27)\n",
    "\n",
    "grid_search = GridSearchCV(XGB,param_grid=param_grid,cv=5, verbose=2,\n",
    "                          scoring='roc_auc',error_score=0,refit=True)\n",
    "grid_search.fit(X_resampled, y_resampled)\n",
    "print grid_search.best_params_\n",
    "print grid_search.best_score_"
   ]
  },
  {
   "cell_type": "code",
   "execution_count": 5,
   "metadata": {
    "collapsed": false
   },
   "outputs": [
    {
     "name": "stdout",
     "output_type": "stream",
     "text": [
      "Fitting 5 folds for each of 16 candidates, totalling 80 fits\n"
     ]
    },
    {
     "name": "stderr",
     "output_type": "stream",
     "text": [
      "[Parallel(n_jobs=1)]: Done  80 out of  80 | elapsed:  3.3min finished\n"
     ]
    },
    {
     "name": "stdout",
     "output_type": "stream",
     "text": [
      "{'subsample': 0.8, 'colsample_bytree': 0.7}\n",
      "0.998167539267\n"
     ]
    }
   ],
   "source": [
    "# Step 4: Tune subsample and colsample_bytree\n",
    "param_grid = {\n",
    " 'subsample':[i/10.0 for i in range(6,10)],\n",
    " 'colsample_bytree':[i/10.0 for i in range(6,10)]\n",
    "}\n",
    "\n",
    "\n",
    "XGB  = xgb.XGBClassifier(\n",
    " learning_rate =0.1,\n",
    " n_estimators=760,\n",
    " max_depth=12,\n",
    " min_child_weight=1,\n",
    " gamma=0,\n",
    " subsample=0.8,\n",
    " colsample_bytree=0.8,\n",
    " objective= 'binary:logistic',\n",
    " nthread=4,\n",
    " scale_pos_weight=1,\n",
    " seed=27)\n",
    "\n",
    "grid_search = GridSearchCV(XGB,param_grid=param_grid,cv=5, verbose=1,\n",
    "                          scoring='roc_auc',error_score=0,refit=True)\n",
    "grid_search.fit(X_resampled, y_resampled)\n",
    "print grid_search.best_params_\n",
    "print grid_search.best_score_\n"
   ]
  },
  {
   "cell_type": "code",
   "execution_count": 9,
   "metadata": {
    "collapsed": false
   },
   "outputs": [
    {
     "name": "stdout",
     "output_type": "stream",
     "text": [
      "Fitting 5 folds for each of 2 candidates, totalling 10 fits\n"
     ]
    },
    {
     "name": "stderr",
     "output_type": "stream",
     "text": [
      "[Parallel(n_jobs=1)]: Done  10 out of  10 | elapsed:   23.2s finished\n"
     ]
    },
    {
     "name": "stdout",
     "output_type": "stream",
     "text": [
      "{'reg_alpha': 1e-20}\n",
      "0.998167539267\n"
     ]
    }
   ],
   "source": [
    "# Step 5: Tuning Regularization Parameters alpha\n",
    "\n",
    "param_grid = {\n",
    " 'reg_alpha':[1e-20,0]\n",
    "}\n",
    "\n",
    "\n",
    "XGB  = xgb.XGBClassifier(\n",
    " learning_rate =0.1,\n",
    " n_estimators=760,\n",
    " max_depth=12,\n",
    " min_child_weight=1,\n",
    " gamma=0,\n",
    " subsample=0.8,\n",
    " colsample_bytree=0.7,\n",
    " objective= 'binary:logistic',\n",
    " nthread=4,\n",
    " scale_pos_weight=1,\n",
    " seed=27)\n",
    "\n",
    "grid_search = GridSearchCV(XGB,param_grid=param_grid,cv=5, verbose=1,\n",
    "                          scoring='roc_auc',error_score=0,refit=True)\n",
    "grid_search.fit(X_resampled, y_resampled)\n",
    "print grid_search.best_params_\n",
    "print grid_search.best_score_\n"
   ]
  },
  {
   "cell_type": "code",
   "execution_count": 11,
   "metadata": {
    "collapsed": false
   },
   "outputs": [
    {
     "name": "stdout",
     "output_type": "stream",
     "text": [
      "Fitting 5 folds for each of 5 candidates, totalling 25 fits\n"
     ]
    },
    {
     "name": "stderr",
     "output_type": "stream",
     "text": [
      "[Parallel(n_jobs=1)]: Done  25 out of  25 | elapsed:   37.1s finished\n"
     ]
    },
    {
     "name": "stdout",
     "output_type": "stream",
     "text": [
      "{'reg_lambda': 1e-05}\n",
      "0.99807708122\n"
     ]
    }
   ],
   "source": [
    "# Step 5: Tuning Regularization Parameters reg_lambda\n",
    "\n",
    "param_grid = {\n",
    " 'reg_lambda':[1e-7,1e-6,1e-5,1e-4,1e-3]\n",
    "}\n",
    "\n",
    "\n",
    "\n",
    "XGB  = xgb.XGBClassifier(\n",
    " learning_rate =0.1,\n",
    " n_estimators=760,\n",
    " max_depth=12,\n",
    " min_child_weight=1,\n",
    " gamma=0,\n",
    " subsample=0.8,\n",
    " colsample_bytree=0.7,\n",
    " objective= 'binary:logistic',\n",
    " nthread=4,\n",
    " scale_pos_weight=1,\n",
    "  reg_alpha=1e-20,\n",
    " seed=27)\n",
    "\n",
    "grid_search = GridSearchCV(XGB,param_grid=param_grid,cv=5, verbose=1,\n",
    "                          scoring='roc_auc',error_score=0,refit=True)\n",
    "grid_search.fit(X_resampled, y_resampled)\n",
    "print grid_search.best_params_\n",
    "print grid_search.best_score_\n",
    "\n"
   ]
  },
  {
   "cell_type": "code",
   "execution_count": 12,
   "metadata": {
    "collapsed": false
   },
   "outputs": [
    {
     "name": "stdout",
     "output_type": "stream",
     "text": [
      "Fitting 5 folds for each of 20 candidates, totalling 100 fits\n"
     ]
    },
    {
     "name": "stderr",
     "output_type": "stream",
     "text": [
      "[Parallel(n_jobs=1)]: Done 100 out of 100 | elapsed:  4.7min finished\n"
     ]
    },
    {
     "name": "stdout",
     "output_type": "stream",
     "text": [
      "{'learning_rate': 0.042105263157894736}\n",
      "0.998125051397\n"
     ]
    }
   ],
   "source": [
    "# # Step 6: 学习速率\n",
    "\n",
    "\n",
    "param_grid = {\n",
    " 'learning_rate':np.linspace(0,0.2,20)\n",
    "}\n",
    "\n",
    "\n",
    "\n",
    "XGB  = xgb.XGBClassifier(\n",
    " learning_rate =0.1,\n",
    " n_estimators=760,\n",
    " max_depth=12,\n",
    " min_child_weight=1,\n",
    " gamma=0,\n",
    " subsample=0.8,\n",
    " colsample_bytree=0.7,\n",
    " objective= 'binary:logistic',\n",
    " nthread=4,\n",
    " scale_pos_weight=1,\n",
    "  reg_alpha=1e-20,\n",
    "  reg_lambda=1e-05,\n",
    " seed=27)\n",
    "\n",
    "grid_search = GridSearchCV(XGB,param_grid=param_grid,cv=5, verbose=1,\n",
    "                          scoring='roc_auc',error_score=0,refit=True)\n",
    "grid_search.fit(X_resampled, y_resampled)\n",
    "print grid_search.best_params_\n",
    "print grid_search.best_score_\n",
    "\n"
   ]
  },
  {
   "cell_type": "code",
   "execution_count": 6,
   "metadata": {
    "collapsed": false
   },
   "outputs": [],
   "source": [
    "# 用15个不同random_state的预测结果的平均值来做最后的推断\n",
    "\n",
    "clf  = xgb.XGBClassifier(\n",
    " learning_rate =0.0421,\n",
    " n_estimators=760,\n",
    " max_depth=12,\n",
    " min_child_weight=1,\n",
    " gamma=0,\n",
    " subsample=0.8,\n",
    " colsample_bytree=0.7,\n",
    " objective= 'binary:logistic',\n",
    " nthread=4,\n",
    " scale_pos_weight=1,\n",
    "  reg_alpha=1e-20,\n",
    "  reg_lambda=1e-05,\n",
    " seed=27)\n",
    "\n",
    "rounds = 15\n",
    "preds_mat = np.zeros((len(output.index), rounds))\n",
    "for i in range(rounds):\n",
    "    clf.set_params(seed = i + 1)\n",
    "    clf.fit(X_resampled, y_resampled)\n",
    "    preds_tmp = clf.predict_proba(X_test)[:, 1]\n",
    "    preds_mat[:, i] = preds_tmp\n",
    "pred_test3 = preds_mat.mean(axis = 1)\n",
    "\n",
    "output['prediction'] = pred_test3\n",
    "output.drop('index', 1)\n",
    "output.to_csv('XGB2.csv', sep=',', index=False, header=True, columns=['bidder_id', 'prediction'])"
   ]
  },
  {
   "cell_type": "markdown",
   "metadata": {},
   "source": [
    "## 算法结果\n",
    "![ROC_space](src/xgb.png)"
   ]
  },
  {
   "cell_type": "markdown",
   "metadata": {},
   "source": [
    "## 结合三种模型\n",
    "\n"
   ]
  },
  {
   "cell_type": "code",
   "execution_count": 14,
   "metadata": {
    "collapsed": false
   },
   "outputs": [],
   "source": [
    "                                                            \n",
    "pred_test = np.zeros(len(output.index))\n",
    "for i in range(15):\n",
    "    RFC = RandomForestClassifier(max_depth=None, min_samples_leaf=1, max_features=3, random_state=i*20\n",
    "                                 ,n_jobs = -1,criterion = 'entropy',n_estimators=350)\n",
    "    RFC.fit(X_resampled, y_resampled)\n",
    "    a = RFC.predict_proba(X_test)[:,1]\n",
    "    pred_test += a\n",
    "\n",
    "for i in range(15):\n",
    "    ETC = ExtraTreesClassifier(n_estimators=950,max_features=17,n_jobs = -1,\n",
    "                               max_depth=None, min_samples_leaf=1, random_state=i*10)\n",
    "    ETC.fit(X_resampled, y_resampled)\n",
    "    a = ETC.predict_proba(X_test)[:,1]\n",
    "    pred_test += a\n",
    "    \n",
    "for i in range(15):\n",
    "    clf.set_params(seed = i + 1)\n",
    "    clf.fit(X_resampled, y_resampled)\n",
    "    a = clf.predict_proba(X_test)[:,1]\n",
    "    pred_test += a\n",
    "pred_test = 1.0*pred_test/45\n",
    "output['prediction'] = pd.Series(pred_test, index=output.index)\n",
    "output.drop('index', 1)\n",
    "output.to_csv('combined.csv', sep=',', index=False, header=True, columns=['bidder_id', 'prediction'])\n",
    "                          "
   ]
  },
  {
   "cell_type": "markdown",
   "metadata": {},
   "source": [
    "## 结果\n",
    "\n",
    "![ROC_space](src/comb.png)"
   ]
  },
  {
   "cell_type": "code",
   "execution_count": 4,
   "metadata": {
    "collapsed": false,
    "scrolled": true
   },
   "outputs": [
    {
     "name": "stdout",
     "output_type": "stream",
     "text": [
      "Fitting 5 folds for each of 3 candidates, totalling 15 fits\n",
      "[CV] kernel=linear, C=10000 ..........................................\n",
      "[CV] kernel=linear, C=10000 ..........................................\n",
      "[CV] ........................... kernel=linear, C=10000, total=   1.9s\n",
      "[CV] kernel=linear, C=10000 ..........................................\n",
      "[CV] ........................... kernel=linear, C=10000, total=   1.9s\n",
      "[CV] kernel=linear, C=10000 ..........................................\n",
      "[CV] ........................... kernel=linear, C=10000, total=   2.0s\n",
      "[CV] kernel=linear, C=10000 ..........................................\n",
      "[CV] ........................... kernel=linear, C=10000, total=   2.2s\n",
      "[CV] kernel=linear, C=100000 .........................................\n",
      "[CV] ........................... kernel=linear, C=10000, total=   2.0s\n",
      "[CV] kernel=linear, C=100000 .........................................\n",
      "[CV] .......................... kernel=linear, C=100000, total=   6.5s\n",
      "[CV] kernel=linear, C=100000 .........................................\n",
      "[CV] .......................... kernel=linear, C=100000, total=   6.8s\n",
      "[CV] kernel=linear, C=100000 .........................................\n",
      "[CV] .......................... kernel=linear, C=100000, total=   6.4s\n",
      "[CV] kernel=linear, C=100000 .........................................\n",
      "[CV] .......................... kernel=linear, C=100000, total=   5.9s\n",
      "[CV] kernel=linear, C=1000000 ........................................\n",
      "[CV] .......................... kernel=linear, C=100000, total=   6.4s\n",
      "[CV] kernel=linear, C=1000000 ........................................\n",
      "[CV] ......................... kernel=linear, C=1000000, total=  39.4s\n",
      "[CV] kernel=linear, C=1000000 ........................................\n",
      "[CV] ......................... kernel=linear, C=1000000, total=  40.9s\n",
      "[CV] kernel=linear, C=1000000 ........................................\n",
      "[CV] ......................... kernel=linear, C=1000000, total=  43.5s\n",
      "[CV] kernel=linear, C=1000000 ........................................\n",
      "[CV] ......................... kernel=linear, C=1000000, total=  39.8s\n",
      "[CV] ......................... kernel=linear, C=1000000, total=  30.3s\n"
     ]
    },
    {
     "name": "stderr",
     "output_type": "stream",
     "text": [
      "[Parallel(n_jobs=2)]: Done  15 out of  15 | elapsed:  2.2min finished\n"
     ]
    },
    {
     "name": "stdout",
     "output_type": "stream",
     "text": [
      "{'kernel': 'linear', 'C': 1000000}\n",
      "0.951319865135\n"
     ]
    }
   ],
   "source": [
    "#增加模型SVM\n",
    "#RandomForestClassifier gini\n",
    "#ExtraTreesClassifier gini\n",
    "# Adaboost\n",
    "from sklearn.svm import SVC\n",
    "\n",
    "\n",
    "svm = SVC(probability=True)\n",
    "\n",
    "param_grid = { 'C': [10**4,10**5,10**6],\n",
    "               'kernel': [ 'linear']}\n",
    "\n",
    "grid_search = GridSearchCV(svm,param_grid=param_grid,cv=5, verbose=2,n_jobs = 2,\n",
    "                          scoring='roc_auc',error_score=0,refit=True)\n",
    "grid_search.fit(X_resampled, y_resampled)\n",
    "print grid_search.best_params_\n",
    "print grid_search.best_score_\n"
   ]
  },
  {
   "cell_type": "code",
   "execution_count": 9,
   "metadata": {
    "collapsed": false,
    "scrolled": true
   },
   "outputs": [
    {
     "name": "stdout",
     "output_type": "stream",
     "text": [
      "Fitting 5 folds for each of 3 candidates, totalling 15 fits\n",
      "[CV] n_estimators=3000, learning_rate=0.2 ............................\n",
      "[CV] n_estimators=3000, learning_rate=0.2 ............................\n",
      "[CV] n_estimators=3000, learning_rate=0.2 ............................\n",
      "[CV] n_estimators=3000, learning_rate=0.2 ............................\n",
      "[CV] ............. n_estimators=3000, learning_rate=0.2, total= 1.4min\n",
      "[CV] n_estimators=3000, learning_rate=0.2 ............................\n",
      "[CV] ............. n_estimators=3000, learning_rate=0.2, total= 1.4min\n",
      "[CV] n_estimators=3500, learning_rate=0.2 ............................\n",
      "[CV] ............. n_estimators=3000, learning_rate=0.2, total= 1.4min\n",
      "[CV] n_estimators=3500, learning_rate=0.2 ............................\n",
      "[CV] ............. n_estimators=3000, learning_rate=0.2, total= 1.4min\n",
      "[CV] n_estimators=3500, learning_rate=0.2 ............................\n",
      "[CV] ............. n_estimators=3000, learning_rate=0.2, total= 1.4min\n",
      "[CV] n_estimators=3500, learning_rate=0.2 ............................\n",
      "[CV] ............. n_estimators=3500, learning_rate=0.2, total= 1.6min\n",
      "[CV] n_estimators=3500, learning_rate=0.2 ............................\n",
      "[CV] ............. n_estimators=3500, learning_rate=0.2, total= 1.6min\n",
      "[CV] ............. n_estimators=3500, learning_rate=0.2, total= 1.6min\n",
      "[CV] n_estimators=4000, learning_rate=0.2 ............................\n",
      "[CV] n_estimators=4000, learning_rate=0.2 ............................\n",
      "[CV] ............. n_estimators=3500, learning_rate=0.2, total= 1.7min\n",
      "[CV] n_estimators=4000, learning_rate=0.2 ............................\n",
      "[CV] ............. n_estimators=3500, learning_rate=0.2, total= 1.7min\n",
      "[CV] n_estimators=4000, learning_rate=0.2 ............................\n",
      "[CV] ............. n_estimators=4000, learning_rate=0.2, total= 1.9min\n",
      "[CV] n_estimators=4000, learning_rate=0.2 ............................\n",
      "[CV] ............. n_estimators=4000, learning_rate=0.2, total= 2.0min\n",
      "[CV] ............. n_estimators=4000, learning_rate=0.2, total= 1.5min\n",
      "[CV] ............. n_estimators=4000, learning_rate=0.2, total= 1.4min\n",
      "[CV] ............. n_estimators=4000, learning_rate=0.2, total= 1.3min\n"
     ]
    },
    {
     "name": "stderr",
     "output_type": "stream",
     "text": [
      "[Parallel(n_jobs=-1)]: Done  15 out of  15 | elapsed:  6.5min finished\n"
     ]
    },
    {
     "name": "stdout",
     "output_type": "stream",
     "text": [
      "{'n_estimators': 3000, 'learning_rate': 0.2}\n",
      "0.990082508703\n"
     ]
    }
   ],
   "source": [
    "abc = AdaBoostClassifier()\n",
    "\n",
    "param_grid = { 'learning_rate': [0.2],\n",
    "               'n_estimators': [3000,3500,4000]}\n",
    "\n",
    "grid_search = GridSearchCV(abc,param_grid=param_grid,cv=5, verbose=2,n_jobs = -1,\n",
    "                          scoring='roc_auc',error_score=0,refit=True)\n",
    "grid_search.fit(X_resampled, y_resampled)\n",
    "print grid_search.best_params_\n",
    "print grid_search.best_score_"
   ]
  },
  {
   "cell_type": "markdown",
   "metadata": {},
   "source": [
    "## stacking"
   ]
  },
  {
   "cell_type": "code",
   "execution_count": 12,
   "metadata": {
    "collapsed": false
   },
   "outputs": [],
   "source": [
    "# https://www.kaggle.com/arthurtok/titanic/introduction-to-ensembling-stacking-in-python\n",
    "# https://github.com/emanuele/kaggle_pbr/blob/master/blend.py\n",
    "# 第一阶段模型 xgb,logicRegression,extraTree,Randomforest\n",
    "xgb  = xgb.XGBClassifier(\n",
    " learning_rate =0.0421,\n",
    " n_estimators=760,\n",
    " max_depth=12,\n",
    " min_child_weight=1,\n",
    " gamma=0,\n",
    " subsample=0.8,\n",
    " colsample_bytree=0.7,\n",
    " objective= 'binary:logistic',\n",
    " nthread=4,\n",
    " scale_pos_weight=1,\n",
    "  reg_alpha=1e-20,\n",
    "  reg_lambda=1e-05,\n",
    " seed=27)\n",
    "\n",
    "svm = SVC(probability=True,kernel='linear',C = 1e6, random_state=27)\n",
    "abc = AdaBoostClassifier(learning_rate=0.2,n_estimators=3000, random_state=27)\n",
    "\n",
    "ETC = ExtraTreesClassifier(n_estimators=950,max_features=17,n_jobs = -1,\n",
    "                               max_depth=None, min_samples_leaf=1, random_state=27)\n",
    "RFC = RandomForestClassifier(max_depth=None, min_samples_leaf=1, max_features=3, random_state=27\n",
    "                                ,n_jobs = -1,criterion = 'entropy',n_estimators=350)\n",
    "\n",
    "ETC2 =  ExtraTreesClassifier(n_estimators=500,n_jobs = -1,criterion = 'gini'\n",
    "                              , min_samples_leaf=1, random_state=27)\n",
    "RFC2 = RandomForestClassifier( min_samples_leaf=1,  random_state=27\n",
    "                                ,n_jobs = -1,criterion = 'gini',n_estimators=500)\n",
    "\n",
    "\n",
    "clfs = [benchmark,xgb,ETC,RFC,ETC2,RFC2]"
   ]
  },
  {
   "cell_type": "code",
   "execution_count": 16,
   "metadata": {
    "collapsed": true
   },
   "outputs": [],
   "source": [
    "from sklearn.cross_validation import StratifiedKFold\n",
    "X_train,y_train = X_resampled, y_resampled\n",
    "skf = list(StratifiedKFold(y_train, 10))\n",
    "X_train,y_train = X_resampled, y_resampled\n",
    "ntrain = len(X_train)\n",
    "ntest = len(X_test)\n",
    "\n",
    "def get_oof(clf, x_train, y_train, x_test):\n",
    "    oof_train = np.zeros((ntrain,))\n",
    "    oof_test = np.zeros((ntest,))\n",
    "    oof_test_skf = np.empty((10, ntest))\n",
    "\n",
    "    for i, (train_index, test_index) in enumerate(skf):\n",
    "        x_tr = x_train[train_index]\n",
    "        y_tr = y_train[train_index]\n",
    "        x_te = x_train[test_index]\n",
    "\n",
    "        clf.fit(x_tr, y_tr)\n",
    "\n",
    "        oof_train[test_index] = clf.predict_proba(x_te)[:, 1]\n",
    "        oof_test_skf[i, :] = clf.predict_proba(x_test)[:, 1]\n",
    "\n",
    "    oof_test[:] = oof_test_skf.mean(axis=0)\n",
    "    return oof_train.reshape(-1, 1).ravel(), oof_test.reshape(-1, 1).ravel()"
   ]
  },
  {
   "cell_type": "code",
   "execution_count": 17,
   "metadata": {
    "collapsed": false
   },
   "outputs": [],
   "source": [
    "dataset_blend_train = np.zeros((ntrain, len(clfs)))\n",
    "dataset_blend_test = np.zeros((ntest, len(clfs)))\n",
    "\n",
    "for j, clf in enumerate(clfs):\n",
    "    dataset_blend_train[:, j],dataset_blend_test[:, j] = get_oof(clf, X_train, y_train, X_test)\n",
    "\n",
    "\n"
   ]
  },
  {
   "cell_type": "code",
   "execution_count": 24,
   "metadata": {
    "collapsed": false
   },
   "outputs": [],
   "source": [
    "X_train ,X_test = dataset_blend_train,dataset_blend_test"
   ]
  },
  {
   "cell_type": "code",
   "execution_count": 28,
   "metadata": {
    "collapsed": false
   },
   "outputs": [],
   "source": [
    "# stacking初次提交使用xgb模型\n",
    "xgb = xgb.fit(X_train, y_train)\n",
    "predictions = xgb.predict_proba(X_test)[:,1]\n",
    "\n",
    "output['prediction'] = pd.Series(predictions, index=output.index)\n",
    "output.drop('index', 1)\n",
    "output.to_csv('stacking.csv', sep=',', index=False, header=True, columns=['bidder_id', 'prediction'])\n"
   ]
  },
  {
   "cell_type": "code",
   "execution_count": null,
   "metadata": {
    "collapsed": true
   },
   "outputs": [],
   "source": []
  }
 ],
 "metadata": {
  "kernelspec": {
   "display_name": "Python 2",
   "language": "python",
   "name": "python2"
  },
  "language_info": {
   "codemirror_mode": {
    "name": "ipython",
    "version": 2
   },
   "file_extension": ".py",
   "mimetype": "text/x-python",
   "name": "python",
   "nbconvert_exporter": "python",
   "pygments_lexer": "ipython2",
   "version": "2.7.12"
  }
 },
 "nbformat": 4,
 "nbformat_minor": 2
}
